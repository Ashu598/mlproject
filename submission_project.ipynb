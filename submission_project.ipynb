{
 "cells": [
  {
   "cell_type": "code",
   "execution_count": 41,
   "id": "4f3f1f93-40a8-4436-aa54-1b321638b9e8",
   "metadata": {},
   "outputs": [],
   "source": [
    "import numpy as np\n",
    "import pandas as pd"
   ]
  },
  {
   "cell_type": "code",
   "execution_count": 42,
   "id": "e6761b53-e2c5-481a-be9c-812fd0bc61b8",
   "metadata": {},
   "outputs": [
    {
     "name": "stderr",
     "output_type": "stream",
     "text": [
      "C:\\Users\\Administrator\\AppData\\Local\\Temp\\ipykernel_1788\\1249958066.py:3: UserWarning: Parsing dates in %d-%m-%Y format when dayfirst=False (the default) was specified. Pass `dayfirst=True` or specify a format to silence this warning.\n",
      "  data['Date'] = pd.to_datetime(data['Date'], errors = 'ignore') #Changed the datatype of Date column as datetime\n"
     ]
    },
    {
     "data": {
      "text/html": [
       "<div>\n",
       "<style scoped>\n",
       "    .dataframe tbody tr th:only-of-type {\n",
       "        vertical-align: middle;\n",
       "    }\n",
       "\n",
       "    .dataframe tbody tr th {\n",
       "        vertical-align: top;\n",
       "    }\n",
       "\n",
       "    .dataframe thead th {\n",
       "        text-align: right;\n",
       "    }\n",
       "</style>\n",
       "<table border=\"1\" class=\"dataframe\">\n",
       "  <thead>\n",
       "    <tr style=\"text-align: right;\">\n",
       "      <th></th>\n",
       "      <th>Date</th>\n",
       "      <th>Submission Type</th>\n",
       "      <th>Position</th>\n",
       "      <th>Candidate Name</th>\n",
       "      <th>Rate</th>\n",
       "      <th>Visa</th>\n",
       "      <th>Phone</th>\n",
       "      <th>Email</th>\n",
       "      <th>LinkedIn</th>\n",
       "      <th>Feedback</th>\n",
       "    </tr>\n",
       "  </thead>\n",
       "  <tbody>\n",
       "    <tr>\n",
       "      <th>0</th>\n",
       "      <td>2023-07-15</td>\n",
       "      <td>Internal</td>\n",
       "      <td>QNXT Configuration QA/Testing SME</td>\n",
       "      <td>Kripali Kadakia</td>\n",
       "      <td>$65/hr On C2C</td>\n",
       "      <td>Green Card</td>\n",
       "      <td>(949) 463-7023</td>\n",
       "      <td>Kripali@gmail.com</td>\n",
       "      <td>www.linkedin.com/in/kripali-kadakia-csm-519b1b81/</td>\n",
       "      <td>NaN</td>\n",
       "    </tr>\n",
       "    <tr>\n",
       "      <th>1</th>\n",
       "      <td>2023-07-15</td>\n",
       "      <td>Internal</td>\n",
       "      <td>Provider Data Management</td>\n",
       "      <td>Tiffany Griffin</td>\n",
       "      <td>$ 32/hour on W2</td>\n",
       "      <td>USC</td>\n",
       "      <td>214) 274-9396</td>\n",
       "      <td>tgriffin72894@yahoo.com</td>\n",
       "      <td>www.linkedin.com/in/tiffany-griffin-50136a11/</td>\n",
       "      <td>NaN</td>\n",
       "    </tr>\n",
       "    <tr>\n",
       "      <th>2</th>\n",
       "      <td>2023-07-18</td>\n",
       "      <td>External</td>\n",
       "      <td>Accessibility Engineer QA</td>\n",
       "      <td>Mohammad Karim</td>\n",
       "      <td>$60/hour on C2C</td>\n",
       "      <td>Green Card</td>\n",
       "      <td>737-308-8022</td>\n",
       "      <td>karim_2765@outlook.com</td>\n",
       "      <td>www.linkedin.com/in/mohammad-m-karim-6186a9221/</td>\n",
       "      <td>NaN</td>\n",
       "    </tr>\n",
       "    <tr>\n",
       "      <th>3</th>\n",
       "      <td>2023-07-20</td>\n",
       "      <td>Internal</td>\n",
       "      <td>Senior Software Engineer</td>\n",
       "      <td>Isaiah Dancy</td>\n",
       "      <td>$70/hour on C2C</td>\n",
       "      <td>USC</td>\n",
       "      <td>501291008</td>\n",
       "      <td>Isaiah.David@iscopesolutions.com</td>\n",
       "      <td>www.linkedin.com/in/nexgeneration/</td>\n",
       "      <td>NaN</td>\n",
       "    </tr>\n",
       "    <tr>\n",
       "      <th>4</th>\n",
       "      <td>2023-07-20</td>\n",
       "      <td>External</td>\n",
       "      <td>Java Developer/Spring Boot</td>\n",
       "      <td>Zakira Ishrath Shaik</td>\n",
       "      <td>$65/hour on C2C</td>\n",
       "      <td>H1B</td>\n",
       "      <td>(475) 208-1368</td>\n",
       "      <td>ish226400@gmail.com</td>\n",
       "      <td>linkedin.com/in/ishrath-shaik-19431b239</td>\n",
       "      <td>NaN</td>\n",
       "    </tr>\n",
       "  </tbody>\n",
       "</table>\n",
       "</div>"
      ],
      "text/plain": [
       "        Date Submission Type                           Position  \\\n",
       "0 2023-07-15        Internal  QNXT Configuration QA/Testing SME   \n",
       "1 2023-07-15        Internal           Provider Data Management   \n",
       "2 2023-07-18        External          Accessibility Engineer QA   \n",
       "3 2023-07-20        Internal           Senior Software Engineer   \n",
       "4 2023-07-20        External         Java Developer/Spring Boot   \n",
       "\n",
       "         Candidate Name             Rate        Visa           Phone  \\\n",
       "0       Kripali Kadakia    $65/hr On C2C  Green Card  (949) 463-7023   \n",
       "1       Tiffany Griffin  $ 32/hour on W2         USC   214) 274-9396   \n",
       "2        Mohammad Karim  $60/hour on C2C  Green Card    737-308-8022   \n",
       "3          Isaiah Dancy  $70/hour on C2C         USC       501291008   \n",
       "4  Zakira Ishrath Shaik  $65/hour on C2C         H1B  (475) 208-1368   \n",
       "\n",
       "                              Email  \\\n",
       "0                 Kripali@gmail.com   \n",
       "1           tgriffin72894@yahoo.com   \n",
       "2            karim_2765@outlook.com   \n",
       "3  Isaiah.David@iscopesolutions.com   \n",
       "4               ish226400@gmail.com   \n",
       "\n",
       "                                            LinkedIn Feedback  \n",
       "0  www.linkedin.com/in/kripali-kadakia-csm-519b1b81/      NaN  \n",
       "1      www.linkedin.com/in/tiffany-griffin-50136a11/      NaN  \n",
       "2    www.linkedin.com/in/mohammad-m-karim-6186a9221/      NaN  \n",
       "3                 www.linkedin.com/in/nexgeneration/      NaN  \n",
       "4            linkedin.com/in/ishrath-shaik-19431b239      NaN  "
      ]
     },
     "execution_count": 42,
     "metadata": {},
     "output_type": "execute_result"
    }
   ],
   "source": [
    "data = pd.read_csv(\"mySubmissions.csv\")\n",
    "\n",
    "data['Date'] = pd.to_datetime(data['Date'], errors = 'ignore') #Changed the datatype of Date column as datetime\n",
    "\n",
    "data.drop(['Day'], axis = 1 , inplace = True)                            #Dropped Day column as it's not useful\n",
    "\n",
    "data.head()"
   ]
  },
  {
   "cell_type": "code",
   "execution_count": 43,
   "id": "3de3d796-6a2a-4ce2-81d0-6f0683bde0e8",
   "metadata": {},
   "outputs": [],
   "source": [
    "#!pip install scikit-learn\n"
   ]
  },
  {
   "cell_type": "code",
   "execution_count": 44,
   "id": "7d0db612-8e7b-4dcc-8607-9009c402f4ce",
   "metadata": {},
   "outputs": [],
   "source": [
    "from sklearn.feature_extraction.text import CountVectorizer\n",
    "cv = CountVectorizer(max_features= 250 , stop_words= 'english')\n",
    "\n",
    "vectors = cv.fit_transform(data['Position']).toarray()"
   ]
  },
  {
   "cell_type": "code",
   "execution_count": 45,
   "id": "96853f20-426c-4c65-b37b-c193b9425f75",
   "metadata": {},
   "outputs": [
    {
     "data": {
      "text/plain": [
       "array(['ab', 'accessibility', 'account', 'adf', 'admin', 'administrator',\n",
       "       'analys', 'analyst', 'analysts', 'analytics', 'android', 'angular',\n",
       "       'api', 'architect', 'associate', 'aws', 'az', 'azure', 'ba',\n",
       "       'backend', 'benefits', 'bi', 'big', 'bigdata', 'boot', 'business',\n",
       "       'claims', 'clinical', 'cloud', 'cob', 'configuration',\n",
       "       'consultant', 'coordinator', 'data', 'database', 'datawarehouse',\n",
       "       'developer', 'devops', 'dispute', 'disputes', 'edifec', 'edm',\n",
       "       'emr', 'eng', 'engagement', 'enginee', 'engineer', 'enrollment',\n",
       "       'enterprise', 'epic', 'etl', 'expert', 'facets', 'fhir', 'filenet',\n",
       "       'frontend', 'gcp', 'gke', 'hadoop', 'healthcare', 'hive', 'hrp',\n",
       "       'human', 'iam', 'implementation', 'incident', 'infor',\n",
       "       'informatica', 'ingestion', 'initio', 'ios', 'java', 'javascript',\n",
       "       'kubernetes', 'lead', 'm3', 'management', 'manager', 'master',\n",
       "       'net', 'networx', 'office', 'owner', 'payer', 'payor', 'phoenix',\n",
       "       'platform', 'pm', 'power', 'powerbi', 'product', 'program',\n",
       "       'project', 'provider', 'python', 'qa', 'qnxt', 'rcm',\n",
       "       'reimbursement', 'remote', 'resource', 'resources', 'role', 'rpa',\n",
       "       'salesforce', 'scrum', 'sdet', 'selenium', 'senior', 'setup',\n",
       "       'sme', 'software', 'sol', 'solution', 'spark', 'specialist',\n",
       "       'spring', 'sql', 'sr', 'ssis', 'systems', 'tableau', 'tapestry',\n",
       "       'tech', 'technical', 'terraform', 'tester', 'testing', 'trainer',\n",
       "       'ui', 'ux', 'windchill', 'writer'], dtype=object)"
      ]
     },
     "execution_count": 45,
     "metadata": {},
     "output_type": "execute_result"
    }
   ],
   "source": [
    "cv.get_feature_names_out()"
   ]
  },
  {
   "cell_type": "code",
   "execution_count": 46,
   "id": "25709ca6-acb3-4839-bd71-105886d158b5",
   "metadata": {},
   "outputs": [
    {
     "data": {
      "text/plain": [
       "[(92, 0.7745966692414835),\n",
       " (30, 0.7745966692414834),\n",
       " (157, 0.7745966692414834),\n",
       " (86, 0.5163977794943223),\n",
       " (192, 0.5163977794943223),\n",
       " (194, 0.5163977794943223),\n",
       " (195, 0.5163977794943223),\n",
       " (154, 0.4472135954999579),\n",
       " (228, 0.39999999999999997),\n",
       " (33, 0.3162277660168379)]"
      ]
     },
     "execution_count": 46,
     "metadata": {},
     "output_type": "execute_result"
    }
   ],
   "source": [
    "from sklearn.metrics.pairwise import cosine_similarity\n",
    "similarity = cosine_similarity(vectors)\n",
    "\n",
    "similarityWithIndex = list(enumerate(similarity[0]))\n",
    "sorted(similarityWithIndex, reverse = True, key = lambda x: x[1])[1:11]"
   ]
  },
  {
   "cell_type": "code",
   "execution_count": 47,
   "id": "67ae987c-0625-429d-a61f-c98482a25aac",
   "metadata": {},
   "outputs": [],
   "source": [
    "\n",
    "def recommend(profile):\n",
    "  profile_index = data[data['Position'] == profile].index[0]\n",
    "  distances = similarity[profile_index]\n",
    "  profile_list = sorted(list(enumerate(distances)), reverse = True, key = lambda x: x[1])[1:11]\n",
    "\n",
    "  for i in profile_list:\n",
    "    print(data.iloc[i[0]].Position)"
   ]
  },
  {
   "cell_type": "code",
   "execution_count": 48,
   "id": "eabc4994-bffc-4c42-a8e2-589de3bc1d27",
   "metadata": {},
   "outputs": [
    {
     "name": "stdout",
     "output_type": "stream",
     "text": [
      "Provider Data Setup\n",
      "Data Architect\n",
      "Data Architect\n",
      "Tapestry Provider Analyst\n",
      "Provider Disputes Resource\n",
      "Provider Disputes Resource\n",
      "Clinical Data/DevOps\n",
      "Clinical Data/DevOps\n",
      "Provider Dispute/Claims\n",
      "Provider Dispute/Claims\n"
     ]
    }
   ],
   "source": [
    "recommend('Provider Data Management')"
   ]
  },
  {
   "cell_type": "code",
   "execution_count": 49,
   "id": "e0a4ffa1-7284-4e06-9e6f-d3f4799b1b66",
   "metadata": {},
   "outputs": [],
   "source": [
    "import pickle"
   ]
  },
  {
   "cell_type": "code",
   "execution_count": 53,
   "id": "55e6fd65-3210-4f17-bd73-3e253d689d39",
   "metadata": {},
   "outputs": [],
   "source": [
    "pickle.dump(data, open('profile.pkl', 'wb'))"
   ]
  },
  {
   "cell_type": "code",
   "execution_count": 56,
   "id": "857a54f3-7107-4c20-af9e-465dfe806474",
   "metadata": {},
   "outputs": [],
   "source": [
    "pickle.dump(data.to_dict(), open('profile_dict.pkl', 'wb'))"
   ]
  },
  {
   "cell_type": "code",
   "execution_count": 57,
   "id": "8c326f27-905f-47be-ac67-cb755f185cd9",
   "metadata": {},
   "outputs": [],
   "source": [
    "pickle.dump(similarity, open('similarity.pkl', 'wb'))"
   ]
  }
 ],
 "metadata": {
  "kernelspec": {
   "display_name": "Python 3 (ipykernel)",
   "language": "python",
   "name": "python3"
  },
  "language_info": {
   "codemirror_mode": {
    "name": "ipython",
    "version": 3
   },
   "file_extension": ".py",
   "mimetype": "text/x-python",
   "name": "python",
   "nbconvert_exporter": "python",
   "pygments_lexer": "ipython3",
   "version": "3.10.4"
  }
 },
 "nbformat": 4,
 "nbformat_minor": 5
}
